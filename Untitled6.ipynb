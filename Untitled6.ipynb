{
 "cells": [
  {
   "cell_type": "code",
   "execution_count": 1,
   "id": "db6c927b-28f8-4235-93c5-edffb0474605",
   "metadata": {},
   "outputs": [],
   "source": [
    "#Q1. List any five functions of the pandas library with execution."
   ]
  },
  {
   "cell_type": "code",
   "execution_count": null,
   "id": "444d9a19-451e-485e-8244-dceacfadc430",
   "metadata": {},
   "outputs": [],
   "source": [
    "#Answer - head(), describe(),columns(),goupby(),merge()"
   ]
  },
  {
   "cell_type": "code",
   "execution_count": 5,
   "id": "a2b6a6ed-9b02-40a6-a303-772e7830dbd2",
   "metadata": {},
   "outputs": [],
   "source": [
    "\n",
    "# Q2. Given a Pandas DataFrame df with columns 'A', 'B', and 'C', write a Python function to re-index the\n",
    " # DataFrame with a new index that starts from 1 and increments by 2 for each row.\n"
   ]
  },
  {
   "cell_type": "code",
   "execution_count": 66,
   "id": "d71abfee-d1f9-42b4-8d1e-2f1961f28397",
   "metadata": {},
   "outputs": [],
   "source": [
    "import pandas as pd"
   ]
  },
  {
   "cell_type": "code",
   "execution_count": 68,
   "id": "780c7f8c-c895-41fb-9bf9-8fdb4f4d89b8",
   "metadata": {},
   "outputs": [],
   "source": [
    "df =pd.DataFrame({\"A\":[10,20,30],\n",
    "      \"B\":[20,25,30],\n",
    "      \"C\":[30,35,40]\n",
    "})"
   ]
  },
  {
   "cell_type": "code",
   "execution_count": 70,
   "id": "15394929-984c-44dc-845d-bd5f5552c7b8",
   "metadata": {},
   "outputs": [
    {
     "data": {
      "text/plain": [
       "pandas.core.frame.DataFrame"
      ]
     },
     "execution_count": 70,
     "metadata": {},
     "output_type": "execute_result"
    }
   ],
   "source": [
    "type(df)"
   ]
  },
  {
   "cell_type": "code",
   "execution_count": 72,
   "id": "58a376ba-b395-436f-8824-e1c36582fcaa",
   "metadata": {},
   "outputs": [
    {
     "data": {
      "text/html": [
       "<div>\n",
       "<style scoped>\n",
       "    .dataframe tbody tr th:only-of-type {\n",
       "        vertical-align: middle;\n",
       "    }\n",
       "\n",
       "    .dataframe tbody tr th {\n",
       "        vertical-align: top;\n",
       "    }\n",
       "\n",
       "    .dataframe thead th {\n",
       "        text-align: right;\n",
       "    }\n",
       "</style>\n",
       "<table border=\"1\" class=\"dataframe\">\n",
       "  <thead>\n",
       "    <tr style=\"text-align: right;\">\n",
       "      <th></th>\n",
       "      <th>A</th>\n",
       "      <th>B</th>\n",
       "      <th>C</th>\n",
       "    </tr>\n",
       "  </thead>\n",
       "  <tbody>\n",
       "    <tr>\n",
       "      <th>0</th>\n",
       "      <td>10</td>\n",
       "      <td>20</td>\n",
       "      <td>30</td>\n",
       "    </tr>\n",
       "    <tr>\n",
       "      <th>1</th>\n",
       "      <td>20</td>\n",
       "      <td>25</td>\n",
       "      <td>35</td>\n",
       "    </tr>\n",
       "    <tr>\n",
       "      <th>2</th>\n",
       "      <td>30</td>\n",
       "      <td>30</td>\n",
       "      <td>40</td>\n",
       "    </tr>\n",
       "  </tbody>\n",
       "</table>\n",
       "</div>"
      ],
      "text/plain": [
       "    A   B   C\n",
       "0  10  20  30\n",
       "1  20  25  35\n",
       "2  30  30  40"
      ]
     },
     "execution_count": 72,
     "metadata": {},
     "output_type": "execute_result"
    }
   ],
   "source": [
    "df"
   ]
  },
  {
   "cell_type": "code",
   "execution_count": 112,
   "id": "0e08d26c-b27d-4999-81af-7d5e63e33762",
   "metadata": {},
   "outputs": [],
   "source": [
    "def reindex(df):\n",
    "    new_index = range(1, 1+2*len(df),2)\n",
    "    df.index = new_index\n",
    "    return df"
   ]
  },
  {
   "cell_type": "code",
   "execution_count": 114,
   "id": "559a0bc1-2c3b-48f3-b40a-0fc83e763241",
   "metadata": {},
   "outputs": [
    {
     "name": "stdout",
     "output_type": "stream",
     "text": [
      "    A   B   C\n",
      "1  10  20  30\n",
      "3  20  25  35\n",
      "5  30  30  40\n"
     ]
    }
   ],
   "source": [
    "reindexed = reindex(df)\n",
    "print(reindexed)"
   ]
  },
  {
   "cell_type": "code",
   "execution_count": 116,
   "id": "28753ad1-17cb-41ab-879f-7c597d10b8f4",
   "metadata": {},
   "outputs": [],
   "source": [
    "#Q3. You have a Pandas DataFrame df with a column named 'Values'. Write a Python function that\n",
    "#iterates over the DataFrame and calculates the sum of the first three values in the 'Values' column. The\n",
    "#function should print the sum to the console."
   ]
  },
  {
   "cell_type": "code",
   "execution_count": 120,
   "id": "39a7fea8-30de-4d9c-9c12-d11a227cf560",
   "metadata": {},
   "outputs": [],
   "source": [
    "df1 =pd.DataFrame([10, 20, 30, 40, 50])"
   ]
  },
  {
   "cell_type": "code",
   "execution_count": 122,
   "id": "4cbe4468-f943-4b1a-a128-001cbf89e1fe",
   "metadata": {},
   "outputs": [
    {
     "data": {
      "text/html": [
       "<div>\n",
       "<style scoped>\n",
       "    .dataframe tbody tr th:only-of-type {\n",
       "        vertical-align: middle;\n",
       "    }\n",
       "\n",
       "    .dataframe tbody tr th {\n",
       "        vertical-align: top;\n",
       "    }\n",
       "\n",
       "    .dataframe thead th {\n",
       "        text-align: right;\n",
       "    }\n",
       "</style>\n",
       "<table border=\"1\" class=\"dataframe\">\n",
       "  <thead>\n",
       "    <tr style=\"text-align: right;\">\n",
       "      <th></th>\n",
       "      <th>0</th>\n",
       "    </tr>\n",
       "  </thead>\n",
       "  <tbody>\n",
       "    <tr>\n",
       "      <th>0</th>\n",
       "      <td>10</td>\n",
       "    </tr>\n",
       "    <tr>\n",
       "      <th>1</th>\n",
       "      <td>20</td>\n",
       "    </tr>\n",
       "    <tr>\n",
       "      <th>2</th>\n",
       "      <td>30</td>\n",
       "    </tr>\n",
       "    <tr>\n",
       "      <th>3</th>\n",
       "      <td>40</td>\n",
       "    </tr>\n",
       "    <tr>\n",
       "      <th>4</th>\n",
       "      <td>50</td>\n",
       "    </tr>\n",
       "  </tbody>\n",
       "</table>\n",
       "</div>"
      ],
      "text/plain": [
       "    0\n",
       "0  10\n",
       "1  20\n",
       "2  30\n",
       "3  40\n",
       "4  50"
      ]
     },
     "execution_count": 122,
     "metadata": {},
     "output_type": "execute_result"
    }
   ],
   "source": [
    "df1"
   ]
  },
  {
   "cell_type": "code",
   "execution_count": 130,
   "id": "e9740aea-1acc-43dc-b6d2-e54e1400b329",
   "metadata": {},
   "outputs": [
    {
     "data": {
      "text/plain": [
       "0    60\n",
       "dtype: int64"
      ]
     },
     "execution_count": 130,
     "metadata": {},
     "output_type": "execute_result"
    }
   ],
   "source": [
    "df1.iloc[:3].sum()"
   ]
  },
  {
   "cell_type": "code",
   "execution_count": null,
   "id": "5281fa6a-720b-423a-a3d7-52c76bf609bd",
   "metadata": {},
   "outputs": [],
   "source": [
    "#Q4. Given a Pandas DataFrame df with a column 'Text', write a Python function to create a new column\n",
    "#'Word_Count' that contains the number of words in each row of the 'Text' column."
   ]
  },
  {
   "cell_type": "code",
   "execution_count": 189,
   "id": "8317813c-48a1-4eb0-a6cc-d0bde6964cad",
   "metadata": {},
   "outputs": [],
   "source": [
    "df2 = pd.DataFrame([\"Ram kumar yadav\",\"Shyam singh\",\"Ruhi sharma kumari\",\"Sita kumari yadav gupta\",\"Jack sparrow\",\"Sid\"])"
   ]
  },
  {
   "cell_type": "code",
   "execution_count": 207,
   "id": "dee936dd-c071-4a84-bf8c-55563254caf2",
   "metadata": {},
   "outputs": [],
   "source": [
    "df2.rename(columns={0:'Word'},inplace= True)"
   ]
  },
  {
   "cell_type": "code",
   "execution_count": 209,
   "id": "bc26cbcd-ef79-47ed-a351-23060e19d5b0",
   "metadata": {},
   "outputs": [],
   "source": [
    "df2['Word count']= df2['Word'].apply(lambda x: len(str(x).split()))"
   ]
  },
  {
   "cell_type": "code",
   "execution_count": 211,
   "id": "3578e3d9-70e2-4a40-90a9-ff8cac6039c5",
   "metadata": {},
   "outputs": [
    {
     "data": {
      "text/html": [
       "<div>\n",
       "<style scoped>\n",
       "    .dataframe tbody tr th:only-of-type {\n",
       "        vertical-align: middle;\n",
       "    }\n",
       "\n",
       "    .dataframe tbody tr th {\n",
       "        vertical-align: top;\n",
       "    }\n",
       "\n",
       "    .dataframe thead th {\n",
       "        text-align: right;\n",
       "    }\n",
       "</style>\n",
       "<table border=\"1\" class=\"dataframe\">\n",
       "  <thead>\n",
       "    <tr style=\"text-align: right;\">\n",
       "      <th></th>\n",
       "      <th>Word</th>\n",
       "      <th>Word count</th>\n",
       "    </tr>\n",
       "  </thead>\n",
       "  <tbody>\n",
       "    <tr>\n",
       "      <th>0</th>\n",
       "      <td>Ram kumar yadav</td>\n",
       "      <td>3</td>\n",
       "    </tr>\n",
       "    <tr>\n",
       "      <th>1</th>\n",
       "      <td>Shyam singh</td>\n",
       "      <td>2</td>\n",
       "    </tr>\n",
       "    <tr>\n",
       "      <th>2</th>\n",
       "      <td>Ruhi sharma kumari</td>\n",
       "      <td>3</td>\n",
       "    </tr>\n",
       "    <tr>\n",
       "      <th>3</th>\n",
       "      <td>Sita kumari yadav gupta</td>\n",
       "      <td>4</td>\n",
       "    </tr>\n",
       "    <tr>\n",
       "      <th>4</th>\n",
       "      <td>Jack sparrow</td>\n",
       "      <td>2</td>\n",
       "    </tr>\n",
       "    <tr>\n",
       "      <th>5</th>\n",
       "      <td>Sid</td>\n",
       "      <td>1</td>\n",
       "    </tr>\n",
       "  </tbody>\n",
       "</table>\n",
       "</div>"
      ],
      "text/plain": [
       "                      Word  Word count\n",
       "0          Ram kumar yadav           3\n",
       "1              Shyam singh           2\n",
       "2       Ruhi sharma kumari           3\n",
       "3  Sita kumari yadav gupta           4\n",
       "4             Jack sparrow           2\n",
       "5                      Sid           1"
      ]
     },
     "execution_count": 211,
     "metadata": {},
     "output_type": "execute_result"
    }
   ],
   "source": [
    "df2"
   ]
  },
  {
   "cell_type": "code",
   "execution_count": 213,
   "id": "16549c50-a709-4db9-8b45-876492462e1f",
   "metadata": {},
   "outputs": [],
   "source": [
    "#Q5. How are DataFrame.size() and DataFrame.shape() different?"
   ]
  },
  {
   "cell_type": "code",
   "execution_count": null,
   "id": "7e5c627f-2e58-47a4-9633-32ff5ad8f731",
   "metadata": {},
   "outputs": [],
   "source": [
    "#DataFrame.size\n",
    "#Definition: The .size attribute returns the total number of elements in the DataFrame.\n",
    "#What it counts: It counts every individual element (cell) in the DataFrame, so it is the product of the number of rows and columns.\n",
    "#Type: It is an integer.\n",
    "#DataFrame.shape\n",
    "#Definition: The .shape attribute returns a tuple representing the dimensions (rows, columns) of the DataFrame.\n",
    "#What it counts: It provides the number of rows and columns in the DataFrame.\n",
    "#Type: It is a tuple of two integers: (number of rows, number of columns)."
   ]
  },
  {
   "cell_type": "code",
   "execution_count": null,
   "id": "49e6b953-7ed5-4761-9f72-f7c2c99843fe",
   "metadata": {},
   "outputs": [],
   "source": [
    "#Q6. Which function of pandas do we use to read an excel file?\n",
    "# Answer - read_xlsx()"
   ]
  },
  {
   "cell_type": "code",
   "execution_count": null,
   "id": "f8011dd7-7f7b-4dc4-8b2b-e4fce3680616",
   "metadata": {},
   "outputs": [],
   "source": [
    "#Q7. You have a Pandas DataFrame df that contains a column named 'Email' that contains email\n",
    "#addresses in the format 'username@domain.com'. Write a Python function that creates a new column\n",
    "#'Username' in df that contains only the username part of each email address.\n",
    "#The username is the part of the email address that appears before the '@' symbol. For example, if the\n",
    "#email address is 'john.doe@example.com', the 'Username' column should contain 'john.doe'. Your\n",
    "#function should extract the username from each email address and store it in the new 'Username'\n",
    "#column."
   ]
  },
  {
   "cell_type": "code",
   "execution_count": 215,
   "id": "d466c790-95ee-49c0-8bf1-ac82acf786b7",
   "metadata": {},
   "outputs": [],
   "source": [
    "df3 = pd.DataFrame({\n",
    "    'Email': ['john.doe@example.com', 'jane_smith@test.com', 'user123@domain.org','sid@iift.com']\n",
    "})"
   ]
  },
  {
   "cell_type": "code",
   "execution_count": 217,
   "id": "7d06e2ce-8d3c-47ac-a89c-ab8d92f6c6d9",
   "metadata": {},
   "outputs": [
    {
     "data": {
      "text/html": [
       "<div>\n",
       "<style scoped>\n",
       "    .dataframe tbody tr th:only-of-type {\n",
       "        vertical-align: middle;\n",
       "    }\n",
       "\n",
       "    .dataframe tbody tr th {\n",
       "        vertical-align: top;\n",
       "    }\n",
       "\n",
       "    .dataframe thead th {\n",
       "        text-align: right;\n",
       "    }\n",
       "</style>\n",
       "<table border=\"1\" class=\"dataframe\">\n",
       "  <thead>\n",
       "    <tr style=\"text-align: right;\">\n",
       "      <th></th>\n",
       "      <th>Email</th>\n",
       "    </tr>\n",
       "  </thead>\n",
       "  <tbody>\n",
       "    <tr>\n",
       "      <th>0</th>\n",
       "      <td>john.doe@example.com</td>\n",
       "    </tr>\n",
       "    <tr>\n",
       "      <th>1</th>\n",
       "      <td>jane_smith@test.com</td>\n",
       "    </tr>\n",
       "    <tr>\n",
       "      <th>2</th>\n",
       "      <td>user123@domain.org</td>\n",
       "    </tr>\n",
       "    <tr>\n",
       "      <th>3</th>\n",
       "      <td>sid@iift.com</td>\n",
       "    </tr>\n",
       "  </tbody>\n",
       "</table>\n",
       "</div>"
      ],
      "text/plain": [
       "                  Email\n",
       "0  john.doe@example.com\n",
       "1   jane_smith@test.com\n",
       "2    user123@domain.org\n",
       "3          sid@iift.com"
      ]
     },
     "execution_count": 217,
     "metadata": {},
     "output_type": "execute_result"
    }
   ],
   "source": [
    "df3"
   ]
  },
  {
   "cell_type": "code",
   "execution_count": 229,
   "id": "56036a26-97bc-4572-a0a8-f919477ab685",
   "metadata": {},
   "outputs": [],
   "source": [
    "df3['Username'] = df3['Email'].str.split('@').str[0]"
   ]
  },
  {
   "cell_type": "code",
   "execution_count": 231,
   "id": "da7b5891-d1fa-4db7-a9bb-8732858b1d40",
   "metadata": {},
   "outputs": [
    {
     "data": {
      "text/html": [
       "<div>\n",
       "<style scoped>\n",
       "    .dataframe tbody tr th:only-of-type {\n",
       "        vertical-align: middle;\n",
       "    }\n",
       "\n",
       "    .dataframe tbody tr th {\n",
       "        vertical-align: top;\n",
       "    }\n",
       "\n",
       "    .dataframe thead th {\n",
       "        text-align: right;\n",
       "    }\n",
       "</style>\n",
       "<table border=\"1\" class=\"dataframe\">\n",
       "  <thead>\n",
       "    <tr style=\"text-align: right;\">\n",
       "      <th></th>\n",
       "      <th>Email</th>\n",
       "      <th>Username</th>\n",
       "    </tr>\n",
       "  </thead>\n",
       "  <tbody>\n",
       "    <tr>\n",
       "      <th>0</th>\n",
       "      <td>john.doe@example.com</td>\n",
       "      <td>john.doe</td>\n",
       "    </tr>\n",
       "    <tr>\n",
       "      <th>1</th>\n",
       "      <td>jane_smith@test.com</td>\n",
       "      <td>jane_smith</td>\n",
       "    </tr>\n",
       "    <tr>\n",
       "      <th>2</th>\n",
       "      <td>user123@domain.org</td>\n",
       "      <td>user123</td>\n",
       "    </tr>\n",
       "    <tr>\n",
       "      <th>3</th>\n",
       "      <td>sid@iift.com</td>\n",
       "      <td>sid</td>\n",
       "    </tr>\n",
       "  </tbody>\n",
       "</table>\n",
       "</div>"
      ],
      "text/plain": [
       "                  Email    Username\n",
       "0  john.doe@example.com    john.doe\n",
       "1   jane_smith@test.com  jane_smith\n",
       "2    user123@domain.org     user123\n",
       "3          sid@iift.com         sid"
      ]
     },
     "execution_count": 231,
     "metadata": {},
     "output_type": "execute_result"
    }
   ],
   "source": [
    "df3"
   ]
  },
  {
   "cell_type": "code",
   "execution_count": 233,
   "id": "8cf51392-6fda-42b0-8905-04584fba4dab",
   "metadata": {},
   "outputs": [],
   "source": [
    "df3['Extension']=df3['Email'].str.split('@').str[1]"
   ]
  },
  {
   "cell_type": "markdown",
   "id": "3a01aa23-7647-4ad1-b136-a18e0ca79fd4",
   "metadata": {
    "jp-MarkdownHeadingCollapsed": true
   },
   "source": []
  },
  {
   "cell_type": "code",
   "execution_count": 235,
   "id": "a848732d-40df-46c3-81f1-6b784277dd2d",
   "metadata": {},
   "outputs": [
    {
     "data": {
      "text/html": [
       "<div>\n",
       "<style scoped>\n",
       "    .dataframe tbody tr th:only-of-type {\n",
       "        vertical-align: middle;\n",
       "    }\n",
       "\n",
       "    .dataframe tbody tr th {\n",
       "        vertical-align: top;\n",
       "    }\n",
       "\n",
       "    .dataframe thead th {\n",
       "        text-align: right;\n",
       "    }\n",
       "</style>\n",
       "<table border=\"1\" class=\"dataframe\">\n",
       "  <thead>\n",
       "    <tr style=\"text-align: right;\">\n",
       "      <th></th>\n",
       "      <th>Email</th>\n",
       "      <th>Username</th>\n",
       "      <th>Extension</th>\n",
       "    </tr>\n",
       "  </thead>\n",
       "  <tbody>\n",
       "    <tr>\n",
       "      <th>0</th>\n",
       "      <td>john.doe@example.com</td>\n",
       "      <td>john.doe</td>\n",
       "      <td>example.com</td>\n",
       "    </tr>\n",
       "    <tr>\n",
       "      <th>1</th>\n",
       "      <td>jane_smith@test.com</td>\n",
       "      <td>jane_smith</td>\n",
       "      <td>test.com</td>\n",
       "    </tr>\n",
       "    <tr>\n",
       "      <th>2</th>\n",
       "      <td>user123@domain.org</td>\n",
       "      <td>user123</td>\n",
       "      <td>domain.org</td>\n",
       "    </tr>\n",
       "    <tr>\n",
       "      <th>3</th>\n",
       "      <td>sid@iift.com</td>\n",
       "      <td>sid</td>\n",
       "      <td>iift.com</td>\n",
       "    </tr>\n",
       "  </tbody>\n",
       "</table>\n",
       "</div>"
      ],
      "text/plain": [
       "                  Email    Username    Extension\n",
       "0  john.doe@example.com    john.doe  example.com\n",
       "1   jane_smith@test.com  jane_smith     test.com\n",
       "2    user123@domain.org     user123   domain.org\n",
       "3          sid@iift.com         sid     iift.com"
      ]
     },
     "execution_count": 235,
     "metadata": {},
     "output_type": "execute_result"
    }
   ],
   "source": [
    "df3"
   ]
  },
  {
   "cell_type": "code",
   "execution_count": null,
   "id": "030b21dd-18f4-4684-9ad9-598f227cfd02",
   "metadata": {},
   "outputs": [],
   "source": [
    "#Q8. You have a Pandas DataFrame df with columns 'A', 'B', and 'C'. Write a Python function that selects\n",
    "#all rows where the value in column 'A' is greater than 5 and the value in column 'B' is less than 10. The\n",
    "#function should return a new DataFrame that contains only the selected rows.\n",
    "#For example, if df contains the following values:"
   ]
  },
  {
   "cell_type": "code",
   "execution_count": 239,
   "id": "bc9f8a10-88aa-4f55-b10b-cd2aef33ea5e",
   "metadata": {},
   "outputs": [],
   "source": [
    "df4 = pd.DataFrame({\"A\":[3,8,6,2,9],\n",
    "      \"B\":[5,2,9,3,1],\n",
    "      \"C\":[1,7,4,5,1]\n",
    "})"
   ]
  },
  {
   "cell_type": "code",
   "execution_count": 241,
   "id": "235a516d-ee9e-457f-a2b6-91cc173214b4",
   "metadata": {},
   "outputs": [
    {
     "data": {
      "text/html": [
       "<div>\n",
       "<style scoped>\n",
       "    .dataframe tbody tr th:only-of-type {\n",
       "        vertical-align: middle;\n",
       "    }\n",
       "\n",
       "    .dataframe tbody tr th {\n",
       "        vertical-align: top;\n",
       "    }\n",
       "\n",
       "    .dataframe thead th {\n",
       "        text-align: right;\n",
       "    }\n",
       "</style>\n",
       "<table border=\"1\" class=\"dataframe\">\n",
       "  <thead>\n",
       "    <tr style=\"text-align: right;\">\n",
       "      <th></th>\n",
       "      <th>A</th>\n",
       "      <th>B</th>\n",
       "      <th>C</th>\n",
       "    </tr>\n",
       "  </thead>\n",
       "  <tbody>\n",
       "    <tr>\n",
       "      <th>0</th>\n",
       "      <td>3</td>\n",
       "      <td>5</td>\n",
       "      <td>1</td>\n",
       "    </tr>\n",
       "    <tr>\n",
       "      <th>1</th>\n",
       "      <td>8</td>\n",
       "      <td>2</td>\n",
       "      <td>7</td>\n",
       "    </tr>\n",
       "    <tr>\n",
       "      <th>2</th>\n",
       "      <td>6</td>\n",
       "      <td>9</td>\n",
       "      <td>4</td>\n",
       "    </tr>\n",
       "    <tr>\n",
       "      <th>3</th>\n",
       "      <td>2</td>\n",
       "      <td>3</td>\n",
       "      <td>5</td>\n",
       "    </tr>\n",
       "    <tr>\n",
       "      <th>4</th>\n",
       "      <td>9</td>\n",
       "      <td>1</td>\n",
       "      <td>1</td>\n",
       "    </tr>\n",
       "  </tbody>\n",
       "</table>\n",
       "</div>"
      ],
      "text/plain": [
       "   A  B  C\n",
       "0  3  5  1\n",
       "1  8  2  7\n",
       "2  6  9  4\n",
       "3  2  3  5\n",
       "4  9  1  1"
      ]
     },
     "execution_count": 241,
     "metadata": {},
     "output_type": "execute_result"
    }
   ],
   "source": [
    "df4"
   ]
  },
  {
   "cell_type": "code",
   "execution_count": 247,
   "id": "cb835dba-8a25-43f3-abdf-57c75ca2004a",
   "metadata": {},
   "outputs": [
    {
     "data": {
      "text/html": [
       "<div>\n",
       "<style scoped>\n",
       "    .dataframe tbody tr th:only-of-type {\n",
       "        vertical-align: middle;\n",
       "    }\n",
       "\n",
       "    .dataframe tbody tr th {\n",
       "        vertical-align: top;\n",
       "    }\n",
       "\n",
       "    .dataframe thead th {\n",
       "        text-align: right;\n",
       "    }\n",
       "</style>\n",
       "<table border=\"1\" class=\"dataframe\">\n",
       "  <thead>\n",
       "    <tr style=\"text-align: right;\">\n",
       "      <th></th>\n",
       "      <th>A</th>\n",
       "      <th>B</th>\n",
       "      <th>C</th>\n",
       "    </tr>\n",
       "  </thead>\n",
       "  <tbody>\n",
       "    <tr>\n",
       "      <th>1</th>\n",
       "      <td>8</td>\n",
       "      <td>2</td>\n",
       "      <td>7</td>\n",
       "    </tr>\n",
       "    <tr>\n",
       "      <th>4</th>\n",
       "      <td>9</td>\n",
       "      <td>1</td>\n",
       "      <td>1</td>\n",
       "    </tr>\n",
       "  </tbody>\n",
       "</table>\n",
       "</div>"
      ],
      "text/plain": [
       "   A  B  C\n",
       "1  8  2  7\n",
       "4  9  1  1"
      ]
     },
     "execution_count": 247,
     "metadata": {},
     "output_type": "execute_result"
    }
   ],
   "source": [
    "df4[(df4['A']>5) & (df4['B']<df4['A'])]"
   ]
  },
  {
   "cell_type": "code",
   "execution_count": null,
   "id": "77dc76cd-06de-4083-9973-1ecade5a9c45",
   "metadata": {},
   "outputs": [],
   "source": [
    "#Q9. Given a Pandas DataFrame df with a column 'Values', write a Python function to calculate the mean,\n",
    "# median, and standard deviation of the values in the 'Values' column."
   ]
  },
  {
   "cell_type": "code",
   "execution_count": 249,
   "id": "e61a2fc0-ee80-487f-a457-ecbae0882839",
   "metadata": {},
   "outputs": [
    {
     "data": {
      "text/html": [
       "<div>\n",
       "<style scoped>\n",
       "    .dataframe tbody tr th:only-of-type {\n",
       "        vertical-align: middle;\n",
       "    }\n",
       "\n",
       "    .dataframe tbody tr th {\n",
       "        vertical-align: top;\n",
       "    }\n",
       "\n",
       "    .dataframe thead th {\n",
       "        text-align: right;\n",
       "    }\n",
       "</style>\n",
       "<table border=\"1\" class=\"dataframe\">\n",
       "  <thead>\n",
       "    <tr style=\"text-align: right;\">\n",
       "      <th></th>\n",
       "      <th>A</th>\n",
       "      <th>B</th>\n",
       "      <th>C</th>\n",
       "    </tr>\n",
       "  </thead>\n",
       "  <tbody>\n",
       "    <tr>\n",
       "      <th>count</th>\n",
       "      <td>5.00000</td>\n",
       "      <td>5.000000</td>\n",
       "      <td>5.000000</td>\n",
       "    </tr>\n",
       "    <tr>\n",
       "      <th>mean</th>\n",
       "      <td>5.60000</td>\n",
       "      <td>4.000000</td>\n",
       "      <td>3.600000</td>\n",
       "    </tr>\n",
       "    <tr>\n",
       "      <th>std</th>\n",
       "      <td>3.04959</td>\n",
       "      <td>3.162278</td>\n",
       "      <td>2.607681</td>\n",
       "    </tr>\n",
       "    <tr>\n",
       "      <th>min</th>\n",
       "      <td>2.00000</td>\n",
       "      <td>1.000000</td>\n",
       "      <td>1.000000</td>\n",
       "    </tr>\n",
       "    <tr>\n",
       "      <th>25%</th>\n",
       "      <td>3.00000</td>\n",
       "      <td>2.000000</td>\n",
       "      <td>1.000000</td>\n",
       "    </tr>\n",
       "    <tr>\n",
       "      <th>50%</th>\n",
       "      <td>6.00000</td>\n",
       "      <td>3.000000</td>\n",
       "      <td>4.000000</td>\n",
       "    </tr>\n",
       "    <tr>\n",
       "      <th>75%</th>\n",
       "      <td>8.00000</td>\n",
       "      <td>5.000000</td>\n",
       "      <td>5.000000</td>\n",
       "    </tr>\n",
       "    <tr>\n",
       "      <th>max</th>\n",
       "      <td>9.00000</td>\n",
       "      <td>9.000000</td>\n",
       "      <td>7.000000</td>\n",
       "    </tr>\n",
       "  </tbody>\n",
       "</table>\n",
       "</div>"
      ],
      "text/plain": [
       "             A         B         C\n",
       "count  5.00000  5.000000  5.000000\n",
       "mean   5.60000  4.000000  3.600000\n",
       "std    3.04959  3.162278  2.607681\n",
       "min    2.00000  1.000000  1.000000\n",
       "25%    3.00000  2.000000  1.000000\n",
       "50%    6.00000  3.000000  4.000000\n",
       "75%    8.00000  5.000000  5.000000\n",
       "max    9.00000  9.000000  7.000000"
      ]
     },
     "execution_count": 249,
     "metadata": {},
     "output_type": "execute_result"
    }
   ],
   "source": [
    "df4.describe()"
   ]
  },
  {
   "cell_type": "code",
   "execution_count": null,
   "id": "c96544d0-b189-4bac-b78d-cbbbe9df005e",
   "metadata": {},
   "outputs": [],
   "source": [
    "#Q10. Given a Pandas DataFrame df with a column 'Sales' and a column 'Date', write a Python function to\n",
    "#create a new column 'MovingAverage' that contains the moving average of the sales for the past 7 days\n",
    "#for each row in the DataFrame. The moving average should be calculated using a window of size 7 and\n",
    "#should include the current day."
   ]
  },
  {
   "cell_type": "code",
   "execution_count": 255,
   "id": "0b9a537c-0644-4dd3-8836-10a6d6e3a4d2",
   "metadata": {},
   "outputs": [],
   "source": [
    "df5 = pd.DataFrame({'Day': range(10)})"
   ]
  },
  {
   "cell_type": "markdown",
   "id": "31c5b22f-68eb-42af-9c36-0c21c210ce86",
   "metadata": {},
   "source": [
    "##### "
   ]
  },
  {
   "cell_type": "code",
   "execution_count": 272,
   "id": "2042c811-8625-4c42-bb2e-de22d769df10",
   "metadata": {},
   "outputs": [
    {
     "name": "stdout",
     "output_type": "stream",
     "text": [
      "2024-11-29\n"
     ]
    }
   ],
   "source": [
    "from datetime import date\n",
    "datetime = date.today()\n",
    "print(datetime)"
   ]
  },
  {
   "cell_type": "code",
   "execution_count": 297,
   "id": "90e023a8-a8ef-4425-ae63-220032ca11b4",
   "metadata": {},
   "outputs": [],
   "source": [
    "df5 = pd.DataFrame({'Date': pd.date_range(start = datetime.today(), periods=10),\n",
    "                   'Sales':[1000,2000,3000,4000,5000,6000,70000,8000,9000,10000]})"
   ]
  },
  {
   "cell_type": "code",
   "execution_count": 303,
   "id": "fd4c459f-ec42-44aa-995a-e4328e9a331a",
   "metadata": {},
   "outputs": [],
   "source": [
    "df5['Moving Average']=df5['Sales'].rolling(window=3).apply(lambda x: x.mean())\n"
   ]
  },
  {
   "cell_type": "markdown",
   "id": "835da768-e4aa-4c27-8233-93f0d3215d08",
   "metadata": {},
   "source": [
    "##### "
   ]
  },
  {
   "cell_type": "code",
   "execution_count": 305,
   "id": "8dde51e0-4d92-4913-95e8-0bad0d9bf6b6",
   "metadata": {},
   "outputs": [
    {
     "data": {
      "text/html": [
       "<div>\n",
       "<style scoped>\n",
       "    .dataframe tbody tr th:only-of-type {\n",
       "        vertical-align: middle;\n",
       "    }\n",
       "\n",
       "    .dataframe tbody tr th {\n",
       "        vertical-align: top;\n",
       "    }\n",
       "\n",
       "    .dataframe thead th {\n",
       "        text-align: right;\n",
       "    }\n",
       "</style>\n",
       "<table border=\"1\" class=\"dataframe\">\n",
       "  <thead>\n",
       "    <tr style=\"text-align: right;\">\n",
       "      <th></th>\n",
       "      <th>Date</th>\n",
       "      <th>Sales</th>\n",
       "      <th>Moving Average</th>\n",
       "    </tr>\n",
       "  </thead>\n",
       "  <tbody>\n",
       "    <tr>\n",
       "      <th>0</th>\n",
       "      <td>2024-11-29</td>\n",
       "      <td>1000</td>\n",
       "      <td>NaN</td>\n",
       "    </tr>\n",
       "    <tr>\n",
       "      <th>1</th>\n",
       "      <td>2024-11-30</td>\n",
       "      <td>2000</td>\n",
       "      <td>NaN</td>\n",
       "    </tr>\n",
       "    <tr>\n",
       "      <th>2</th>\n",
       "      <td>2024-12-01</td>\n",
       "      <td>3000</td>\n",
       "      <td>2000.0</td>\n",
       "    </tr>\n",
       "    <tr>\n",
       "      <th>3</th>\n",
       "      <td>2024-12-02</td>\n",
       "      <td>4000</td>\n",
       "      <td>3000.0</td>\n",
       "    </tr>\n",
       "    <tr>\n",
       "      <th>4</th>\n",
       "      <td>2024-12-03</td>\n",
       "      <td>5000</td>\n",
       "      <td>4000.0</td>\n",
       "    </tr>\n",
       "    <tr>\n",
       "      <th>5</th>\n",
       "      <td>2024-12-04</td>\n",
       "      <td>6000</td>\n",
       "      <td>5000.0</td>\n",
       "    </tr>\n",
       "    <tr>\n",
       "      <th>6</th>\n",
       "      <td>2024-12-05</td>\n",
       "      <td>70000</td>\n",
       "      <td>27000.0</td>\n",
       "    </tr>\n",
       "    <tr>\n",
       "      <th>7</th>\n",
       "      <td>2024-12-06</td>\n",
       "      <td>8000</td>\n",
       "      <td>28000.0</td>\n",
       "    </tr>\n",
       "    <tr>\n",
       "      <th>8</th>\n",
       "      <td>2024-12-07</td>\n",
       "      <td>9000</td>\n",
       "      <td>29000.0</td>\n",
       "    </tr>\n",
       "    <tr>\n",
       "      <th>9</th>\n",
       "      <td>2024-12-08</td>\n",
       "      <td>10000</td>\n",
       "      <td>9000.0</td>\n",
       "    </tr>\n",
       "  </tbody>\n",
       "</table>\n",
       "</div>"
      ],
      "text/plain": [
       "        Date  Sales  Moving Average\n",
       "0 2024-11-29   1000             NaN\n",
       "1 2024-11-30   2000             NaN\n",
       "2 2024-12-01   3000          2000.0\n",
       "3 2024-12-02   4000          3000.0\n",
       "4 2024-12-03   5000          4000.0\n",
       "5 2024-12-04   6000          5000.0\n",
       "6 2024-12-05  70000         27000.0\n",
       "7 2024-12-06   8000         28000.0\n",
       "8 2024-12-07   9000         29000.0\n",
       "9 2024-12-08  10000          9000.0"
      ]
     },
     "execution_count": 305,
     "metadata": {},
     "output_type": "execute_result"
    }
   ],
   "source": [
    "df5"
   ]
  },
  {
   "cell_type": "code",
   "execution_count": null,
   "id": "e984a461-cdba-4c68-839d-a0ea66e0e944",
   "metadata": {},
   "outputs": [],
   "source": [
    "#Q11. You have a Pandas DataFrame df with a column 'Date'. Write a Python function that creates a new\n",
    "#column 'Weekday' in the DataFrame. The 'Weekday' column should contain the weekday name (e.g.\n",
    "#Monday, Tuesday) corresponding to each date in the 'Date' column.\n",
    "#For example, if df contains the following values:"
   ]
  },
  {
   "cell_type": "code",
   "execution_count": 351,
   "id": "6adf878e-8c91-4bf0-8c8b-cfa8f4565907",
   "metadata": {},
   "outputs": [],
   "source": [
    "df6 = pd.DataFrame({'DATE':['2023-01-01', '2023-01-02','2023-01-03','2023-01-04','2023-01-05'],\n",
    "                  'Weekdays': ['Monday','Tuesday','Wednesday','Thrusday','Friday']})"
   ]
  },
  {
   "cell_type": "markdown",
   "id": "7968711f-66d5-4557-8bd9-f67b67fcb0f6",
   "metadata": {},
   "source": [
    "###### "
   ]
  },
  {
   "cell_type": "code",
   "execution_count": 337,
   "id": "a3312f2f-f4fe-436f-88df-ff9db0d5e672",
   "metadata": {},
   "outputs": [],
   "source": [
    "from datetime import datetime"
   ]
  },
  {
   "cell_type": "code",
   "execution_count": 353,
   "id": "3c6ec65e-79ed-4986-ae1c-9dec10b42ac7",
   "metadata": {},
   "outputs": [
    {
     "data": {
      "text/html": [
       "<div>\n",
       "<style scoped>\n",
       "    .dataframe tbody tr th:only-of-type {\n",
       "        vertical-align: middle;\n",
       "    }\n",
       "\n",
       "    .dataframe tbody tr th {\n",
       "        vertical-align: top;\n",
       "    }\n",
       "\n",
       "    .dataframe thead th {\n",
       "        text-align: right;\n",
       "    }\n",
       "</style>\n",
       "<table border=\"1\" class=\"dataframe\">\n",
       "  <thead>\n",
       "    <tr style=\"text-align: right;\">\n",
       "      <th></th>\n",
       "      <th>DATE</th>\n",
       "      <th>Weekdays</th>\n",
       "    </tr>\n",
       "  </thead>\n",
       "  <tbody>\n",
       "    <tr>\n",
       "      <th>0</th>\n",
       "      <td>2023-01-01</td>\n",
       "      <td>Monday</td>\n",
       "    </tr>\n",
       "    <tr>\n",
       "      <th>1</th>\n",
       "      <td>2023-01-02</td>\n",
       "      <td>Tuesday</td>\n",
       "    </tr>\n",
       "    <tr>\n",
       "      <th>2</th>\n",
       "      <td>2023-01-03</td>\n",
       "      <td>Wednesday</td>\n",
       "    </tr>\n",
       "    <tr>\n",
       "      <th>3</th>\n",
       "      <td>2023-01-04</td>\n",
       "      <td>Thrusday</td>\n",
       "    </tr>\n",
       "    <tr>\n",
       "      <th>4</th>\n",
       "      <td>2023-01-05</td>\n",
       "      <td>Friday</td>\n",
       "    </tr>\n",
       "  </tbody>\n",
       "</table>\n",
       "</div>"
      ],
      "text/plain": [
       "         DATE   Weekdays\n",
       "0  2023-01-01     Monday\n",
       "1  2023-01-02    Tuesday\n",
       "2  2023-01-03  Wednesday\n",
       "3  2023-01-04   Thrusday\n",
       "4  2023-01-05     Friday"
      ]
     },
     "execution_count": 353,
     "metadata": {},
     "output_type": "execute_result"
    }
   ],
   "source": [
    "df6"
   ]
  },
  {
   "cell_type": "code",
   "execution_count": null,
   "id": "24ce159b-628d-4189-9a6a-804353670972",
   "metadata": {},
   "outputs": [],
   "source": [
    "#Q13. To use the basic functions of pandas, what is the first and foremost necessary library that needs to\n",
    "#be imported?"
   ]
  },
  {
   "cell_type": "code",
   "execution_count": 356,
   "id": "0704d2aa-5b66-4a04-bea1-f63a64a293aa",
   "metadata": {},
   "outputs": [],
   "source": [
    "import pandas as pd"
   ]
  },
  {
   "cell_type": "code",
   "execution_count": null,
   "id": "701099e6-89b6-4c05-b552-df59e5da57d4",
   "metadata": {},
   "outputs": [],
   "source": []
  }
 ],
 "metadata": {
  "kernelspec": {
   "display_name": "Python 3 (ipykernel)",
   "language": "python",
   "name": "python3"
  },
  "language_info": {
   "codemirror_mode": {
    "name": "ipython",
    "version": 3
   },
   "file_extension": ".py",
   "mimetype": "text/x-python",
   "name": "python",
   "nbconvert_exporter": "python",
   "pygments_lexer": "ipython3",
   "version": "3.12.7"
  }
 },
 "nbformat": 4,
 "nbformat_minor": 5
}
